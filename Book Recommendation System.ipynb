{
 "cells": [
  {
   "cell_type": "markdown",
   "metadata": {},
   "source": [
    "### This notebook builds a book recommendation system on the goodbooks-10k dataset.\n",
    "#### Get the dataset from here - https://www.kaggle.com/zygmunt/goodbooks-10k \n"
   ]
  },
  {
   "cell_type": "markdown",
   "metadata": {},
   "source": [
    "### Importing Libraries and Loading Our Data\n"
   ]
  },
  {
   "cell_type": "code",
   "execution_count": 1,
   "metadata": {},
   "outputs": [],
   "source": [
    "import pandas as pd\n",
    "import numpy as np\n",
    "import seaborn as sns\n",
    "import matplotlib.pyplot as plt\n",
    "import datetime\n",
    "\n",
    "import warnings\n",
    "warnings.filterwarnings('ignore')"
   ]
  },
  {
   "cell_type": "code",
   "execution_count": 3,
   "metadata": {},
   "outputs": [],
   "source": [
    "books = pd.read_csv('./goodbooks/books.csv')\n",
    "ratings = pd.read_csv('./goodbooks/ratings.csv')\n",
    "book_tags = pd.read_csv('./goodbooks/book_tags.csv')\n",
    "tags = pd.read_csv('./goodbooks/tags.csv')"
   ]
  },
  {
   "cell_type": "markdown",
   "metadata": {},
   "source": [
    "### Clean the dataset\n",
    "As with nearly any real-life dataset, we need to do some cleaning first. When exploring the data I noticed that for some combinations of user and book there are multiple ratings, while in theory there should only be one (unless users can rate a book several times). Furthermore, for the collaborative filtering it is better to have more ratings per user. So I decided to remove users who have rated fewer than 3 books."
   ]
  },
  {
   "cell_type": "code",
   "execution_count": 4,
   "metadata": {},
   "outputs": [],
   "source": [
    "books['original_publication_year'] = books['original_publication_year'].fillna(-1).apply(lambda x: int(x) if x != -1 else -1)\n"
   ]
  },
  {
   "cell_type": "code",
   "execution_count": 5,
   "metadata": {},
   "outputs": [],
   "source": [
    "ratings_rmv_duplicates = ratings.drop_duplicates()\n",
    "unwanted_users = ratings_rmv_duplicates.groupby('user_id')['user_id'].count()\n",
    "unwanted_users = unwanted_users[unwanted_users < 3]\n",
    "unwanted_ratings = ratings_rmv_duplicates[ratings_rmv_duplicates.user_id.isin(unwanted_users.index)]\n",
    "new_ratings = ratings_rmv_duplicates.drop(unwanted_ratings.index)\n"
   ]
  },
  {
   "cell_type": "code",
   "execution_count": 6,
   "metadata": {},
   "outputs": [],
   "source": [
    "new_ratings['title'] = books.set_index('id').title.loc[new_ratings.book_id].values\n"
   ]
  },
  {
   "cell_type": "code",
   "execution_count": 7,
   "metadata": {},
   "outputs": [
    {
     "data": {
      "text/html": [
       "<div>\n",
       "<style scoped>\n",
       "    .dataframe tbody tr th:only-of-type {\n",
       "        vertical-align: middle;\n",
       "    }\n",
       "\n",
       "    .dataframe tbody tr th {\n",
       "        vertical-align: top;\n",
       "    }\n",
       "\n",
       "    .dataframe thead th {\n",
       "        text-align: right;\n",
       "    }\n",
       "</style>\n",
       "<table border=\"1\" class=\"dataframe\">\n",
       "  <thead>\n",
       "    <tr style=\"text-align: right;\">\n",
       "      <th></th>\n",
       "      <th>book_id</th>\n",
       "      <th>user_id</th>\n",
       "      <th>rating</th>\n",
       "      <th>title</th>\n",
       "    </tr>\n",
       "  </thead>\n",
       "  <tbody>\n",
       "    <tr>\n",
       "      <th>0</th>\n",
       "      <td>1</td>\n",
       "      <td>314</td>\n",
       "      <td>5</td>\n",
       "      <td>The Hunger Games (The Hunger Games, #1)</td>\n",
       "    </tr>\n",
       "    <tr>\n",
       "      <th>1</th>\n",
       "      <td>1</td>\n",
       "      <td>439</td>\n",
       "      <td>3</td>\n",
       "      <td>The Hunger Games (The Hunger Games, #1)</td>\n",
       "    </tr>\n",
       "    <tr>\n",
       "      <th>2</th>\n",
       "      <td>1</td>\n",
       "      <td>588</td>\n",
       "      <td>5</td>\n",
       "      <td>The Hunger Games (The Hunger Games, #1)</td>\n",
       "    </tr>\n",
       "    <tr>\n",
       "      <th>3</th>\n",
       "      <td>1</td>\n",
       "      <td>1169</td>\n",
       "      <td>4</td>\n",
       "      <td>The Hunger Games (The Hunger Games, #1)</td>\n",
       "    </tr>\n",
       "    <tr>\n",
       "      <th>4</th>\n",
       "      <td>1</td>\n",
       "      <td>1185</td>\n",
       "      <td>4</td>\n",
       "      <td>The Hunger Games (The Hunger Games, #1)</td>\n",
       "    </tr>\n",
       "    <tr>\n",
       "      <th>5</th>\n",
       "      <td>1</td>\n",
       "      <td>2077</td>\n",
       "      <td>4</td>\n",
       "      <td>The Hunger Games (The Hunger Games, #1)</td>\n",
       "    </tr>\n",
       "    <tr>\n",
       "      <th>6</th>\n",
       "      <td>1</td>\n",
       "      <td>2487</td>\n",
       "      <td>4</td>\n",
       "      <td>The Hunger Games (The Hunger Games, #1)</td>\n",
       "    </tr>\n",
       "    <tr>\n",
       "      <th>7</th>\n",
       "      <td>1</td>\n",
       "      <td>2900</td>\n",
       "      <td>5</td>\n",
       "      <td>The Hunger Games (The Hunger Games, #1)</td>\n",
       "    </tr>\n",
       "    <tr>\n",
       "      <th>8</th>\n",
       "      <td>1</td>\n",
       "      <td>3662</td>\n",
       "      <td>4</td>\n",
       "      <td>The Hunger Games (The Hunger Games, #1)</td>\n",
       "    </tr>\n",
       "    <tr>\n",
       "      <th>9</th>\n",
       "      <td>1</td>\n",
       "      <td>3922</td>\n",
       "      <td>5</td>\n",
       "      <td>The Hunger Games (The Hunger Games, #1)</td>\n",
       "    </tr>\n",
       "  </tbody>\n",
       "</table>\n",
       "</div>"
      ],
      "text/plain": [
       "   book_id  user_id  rating                                    title\n",
       "0        1      314       5  The Hunger Games (The Hunger Games, #1)\n",
       "1        1      439       3  The Hunger Games (The Hunger Games, #1)\n",
       "2        1      588       5  The Hunger Games (The Hunger Games, #1)\n",
       "3        1     1169       4  The Hunger Games (The Hunger Games, #1)\n",
       "4        1     1185       4  The Hunger Games (The Hunger Games, #1)\n",
       "5        1     2077       4  The Hunger Games (The Hunger Games, #1)\n",
       "6        1     2487       4  The Hunger Games (The Hunger Games, #1)\n",
       "7        1     2900       5  The Hunger Games (The Hunger Games, #1)\n",
       "8        1     3662       4  The Hunger Games (The Hunger Games, #1)\n",
       "9        1     3922       5  The Hunger Games (The Hunger Games, #1)"
      ]
     },
     "execution_count": 7,
     "metadata": {},
     "output_type": "execute_result"
    }
   ],
   "source": [
    "new_ratings.head(10)\n"
   ]
  },
  {
   "cell_type": "markdown",
   "metadata": {},
   "source": [
    "### Content Based Recommender\n",
    "\n",
    "To personalise the recommendations ,this engine computes similarity between movies  based on certain metrics and suggests books that are most similar to a particular book that a user liked. Since w book metadata (or content) is being used to build this engine, this also known as Content Based Filtering.\n",
    "\n",
    "This recommender is build based on book's Title, Authors and Genres.\n"
   ]
  },
  {
   "cell_type": "code",
   "execution_count": 8,
   "metadata": {},
   "outputs": [],
   "source": [
    "from sklearn.feature_extraction.text import TfidfVectorizer, CountVectorizer\n",
    "from sklearn.metrics.pairwise import linear_kernel, cosine_similarity"
   ]
  },
  {
   "cell_type": "markdown",
   "metadata": {},
   "source": [
    "### Approach to building the recommender is going to be extremely hacky. Steps are:\n",
    "\n",
    "1. Strip Spaces and Convert to Lowercase from authors. This way, our engine will not confuse between Stephen Covey and Stephen King.\n",
    "\n",
    "2. Combining books with their corresponding genres .\n",
    "\n",
    "3. Use a Count Vectorizer to create our count matrix.\n",
    "\n",
    "Finally, calculate the cosine similarities and return books that are most similar."
   ]
  },
  {
   "cell_type": "code",
   "execution_count": 9,
   "metadata": {},
   "outputs": [],
   "source": [
    "books['authors'] = books['authors'].apply(lambda x: [str.lower(i.replace(\" \", \"\")) for i in x.split(', ')])\n"
   ]
  },
  {
   "cell_type": "code",
   "execution_count": 10,
   "metadata": {},
   "outputs": [],
   "source": [
    "def get_genres(x):\n",
    "    t = book_tags[book_tags.goodreads_book_id==x]\n",
    "    return [i.lower().replace(\" \", \"\") for i in tags.tag_name.loc[t.tag_id].values]\n"
   ]
  },
  {
   "cell_type": "code",
   "execution_count": 11,
   "metadata": {},
   "outputs": [],
   "source": [
    "books['genres'] = books.book_id.apply(get_genres)\n"
   ]
  },
  {
   "cell_type": "code",
   "execution_count": 12,
   "metadata": {},
   "outputs": [],
   "source": [
    "books['soup'] = books.apply(lambda x: ' '.join([x['title']] + x['authors'] + x['genres']), axis=1)\n"
   ]
  },
  {
   "cell_type": "code",
   "execution_count": 13,
   "metadata": {},
   "outputs": [
    {
     "data": {
      "text/plain": [
       "0    The Hunger Games (The Hunger Games, #1) suzann...\n",
       "1    Harry Potter and the Sorcerer's Stone (Harry P...\n",
       "2    Twilight (Twilight, #1) stepheniemeyer young-a...\n",
       "3    To Kill a Mockingbird harperlee classics favor...\n",
       "4    The Great Gatsby f.scottfitzgerald classics fa...\n",
       "Name: soup, dtype: object"
      ]
     },
     "execution_count": 13,
     "metadata": {},
     "output_type": "execute_result"
    }
   ],
   "source": [
    "books.soup.head()\n"
   ]
  },
  {
   "cell_type": "code",
   "execution_count": 17,
   "metadata": {},
   "outputs": [],
   "source": [
    "count = CountVectorizer(analyzer='word',ngram_range=(1, 2),min_df=0, stop_words='english')\n",
    "count_matrix = count.fit_transform(books['soup'])"
   ]
  },
  {
   "cell_type": "markdown",
   "metadata": {},
   "source": [
    "### Cosine Similarity\n",
    "Cosine Similarity is used to calculate a numeric quantity that denotes the similarity between two books."
   ]
  },
  {
   "cell_type": "code",
   "execution_count": 18,
   "metadata": {},
   "outputs": [],
   "source": [
    "cosine_sim = cosine_similarity(count_matrix, count_matrix)\n"
   ]
  },
  {
   "cell_type": "code",
   "execution_count": 19,
   "metadata": {},
   "outputs": [],
   "source": [
    "indices = pd.Series(books.index, index=books['title'])\n",
    "titles = books['title']\n"
   ]
  },
  {
   "cell_type": "code",
   "execution_count": 20,
   "metadata": {},
   "outputs": [],
   "source": [
    "\n",
    "def get_recommendations(title, n=10):\n",
    "    idx = indices[title]\n",
    "    sim_scores = list(enumerate(cosine_sim[idx]))\n",
    "    sim_scores = sorted(sim_scores, key=lambda x: x[1], reverse=True)\n",
    "    sim_scores = sim_scores[1:31]\n",
    "    book_indices = [i[0] for i in sim_scores]\n",
    "    return list(titles.iloc[book_indices].values)[:n]"
   ]
  },
  {
   "cell_type": "code",
   "execution_count": 21,
   "metadata": {},
   "outputs": [
    {
     "data": {
      "text/plain": [
       "[\"Good to Great: Why Some Companies Make the Leap... and Others Don't\",\n",
       " \"First, Break All the Rules: What the World's Greatest Managers Do Differently\",\n",
       " 'Execution: The Discipline of Getting Things Done',\n",
       " \"What Got You Here Won't Get You There: How Successful People Become Even More Successful\",\n",
       " 'Start with Why: How Great Leaders Inspire Everyone to Take Action',\n",
       " 'Great by Choice: Uncertainty, Chaos, and Luck--Why Some Thrive Despite Them All',\n",
       " 'The 21 Irrefutable Laws of Leadership: Follow Them and People Will Follow You',\n",
       " 'The Speed of Trust: The One Thing that Changes Everything',\n",
       " 'Fish: A Proven Way to Boost Morale and Improve Results',\n",
       " 'Leadership and Self-Deception: Getting Out of the Box']"
      ]
     },
     "execution_count": 21,
     "metadata": {},
     "output_type": "execute_result"
    }
   ],
   "source": [
    "get_recommendations(\"The One Minute Manager\")\n"
   ]
  },
  {
   "cell_type": "markdown",
   "metadata": {},
   "source": [
    "The below methos is used when the user doesn't remember the full name of the book, so it can recommend books using partial title\n"
   ]
  },
  {
   "cell_type": "code",
   "execution_count": 23,
   "metadata": {},
   "outputs": [],
   "source": [
    "def get_name_from_partial(title):\n",
    "    return list(books.title[books.title.str.lower().str.contains(title) == True].values)\n"
   ]
  },
  {
   "cell_type": "code",
   "execution_count": 24,
   "metadata": {},
   "outputs": [
    {
     "data": {
      "text/plain": [
       "[(0, 'The Power of Habit: Why We Do What We Do in Life and Business'),\n",
       " (1,\n",
       "  \"The Lean Startup: How Today's Entrepreneurs Use Continuous Innovation to Create Radically Successful Businesses\"),\n",
       " (2,\n",
       "  'Caps for Sale: A Tale of a Peddler, Some Monkeys and Their Monkey Business'),\n",
       " (3,\n",
       "  \"The E-Myth Revisited: Why Most Small Businesses Don't Work and What to Do About It\"),\n",
       " (4, 'The Snowball: Warren Buffett and the Business of Life'),\n",
       " (5,\n",
       "  \"The Innovator's Dilemma: The Revolutionary Book that Will Change the Way You Do Business (Collins Business Essentials)\"),\n",
       " (6, 'The Intelligent Investor (Collins Business Essentials)'),\n",
       " (7, 'Purple Cow: Transform Your Business by Being Remarkable'),\n",
       " (8, 'Business Model Generation'),\n",
       " (9, 'The Long Tail: Why the Future of Business is Selling Less of More'),\n",
       " (10,\n",
       "  \"Losing My Virginity: How I've Survived, Had Fun, and Made a Fortune Doing Business My Way\"),\n",
       " (11,\n",
       "  'The Hard Thing About Hard Things: Building a Business When There Are No Easy Answers'),\n",
       " (12, 'Wicked Business (Lizzy & Diesel, #2)'),\n",
       " (13,\n",
       "  'The Effective Executive: The Definitive Guide to Getting the Right Things Done (Harperbusiness Essentials)'),\n",
       " (14,\n",
       "  'The Google Story: Inside the Hottest Business, Media, and Technology Success of Our Time'),\n",
       " (15, 'The Personal MBA: Master the Art of Business'),\n",
       " (16, 'Fifth Business'),\n",
       " (17,\n",
       "  'The Phoenix Project: A Novel About IT, DevOps, and Helping Your Business Win'),\n",
       " (18, 'Trouble Is My Business'),\n",
       " (19,\n",
       "  'Amusing Ourselves to Death: Public Discourse in the Age of Show Business'),\n",
       " (20,\n",
       "  'EntreLeadership: 20 Years of Practical Business Wisdom from the Trenches')]"
      ]
     },
     "execution_count": 24,
     "metadata": {},
     "output_type": "execute_result"
    }
   ],
   "source": [
    "title = \"business\"\n",
    "l = get_name_from_partial(title)\n",
    "list(enumerate(l))"
   ]
  },
  {
   "cell_type": "code",
   "execution_count": null,
   "metadata": {},
   "outputs": [],
   "source": []
  }
 ],
 "metadata": {
  "kernelspec": {
   "display_name": "Python 3",
   "language": "python",
   "name": "python3"
  },
  "language_info": {
   "codemirror_mode": {
    "name": "ipython",
    "version": 3
   },
   "file_extension": ".py",
   "mimetype": "text/x-python",
   "name": "python",
   "nbconvert_exporter": "python",
   "pygments_lexer": "ipython3",
   "version": "3.6.5"
  }
 },
 "nbformat": 4,
 "nbformat_minor": 2
}
